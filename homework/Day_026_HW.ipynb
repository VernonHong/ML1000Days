{
 "cells": [
  {
   "cell_type": "code",
   "execution_count": 19,
   "metadata": {},
   "outputs": [],
   "source": [
    "import numpy as np\n",
    "import statistics\n",
    "from scipy import stats \n",
    "import matplotlib.pyplot as plt"
   ]
  },
  {
   "cell_type": "code",
   "execution_count": 3,
   "metadata": {},
   "outputs": [],
   "source": [
    "boys = [164,175,183,173,176,159,165,165,169,151,156,163,169,144,170,177,165,160,164,171]\n",
    "girls = [169,170,162,154,183,173,169,167,170,185,162,175,168,151,181,170,182,156,159,160]"
   ]
  },
  {
   "cell_type": "code",
   "execution_count": 14,
   "metadata": {},
   "outputs": [
    {
     "name": "stdout",
     "output_type": "stream",
     "text": [
      "boys\n",
      "mean_boy =  165.95\n",
      "median_boy =  165.0\n",
      "mode_boy =  165\n",
      "range_boy =  39\n",
      "variance_boy =  80.64750000000001\n",
      "P25_boy =  162.25\n",
      "P75_boy =  171.5\n",
      "skew_boy =  -0.4713212731737694\n",
      "kurtosis_boy =  0.19395882957876243\n",
      "girls\n",
      "mean_girl =  168.3\n",
      "median_girl =  169.0\n",
      "mode_girl=  170\n",
      "range_girl =  32\n",
      "variance_girl =  90.60999999999999\n",
      "P25_girl =  161.5\n",
      "P75_girl =  173.5\n",
      "skew_girl =  0.059853211293650746\n",
      "kurtosis_girl =  -0.8203607083948947\n"
     ]
    }
   ],
   "source": [
    "#Q1:試著用今天所教的內容，如何描述這兩組資料的樣態?\n",
    "#暗示:  分別計算男生和女生的統計量\n",
    "print('boys')\n",
    "print('mean_boy = ',np.mean(boys))\n",
    "print('median_boy = ',np.median(boys))\n",
    "print('mode_boy = ',statistics.mode(boys))\n",
    "print('range_boy = ',max(boys)-min(boys))\n",
    "print('variance_boy = ',np.var(boys))\n",
    "print('P25_boy = ',np.percentile(boys,25) )\n",
    "print('P75_boy = ',np.percentile(boys,75) )\n",
    "print('skew_boy = ',stats.skew(boys))\n",
    "print('kurtosis_boy = ',stats.kurtosis(boys))\n",
    "\n",
    "print('girls')\n",
    "print('mean_girl = ',np.mean(girls))\n",
    "print('median_girl = ',np.median(girls))\n",
    "print('mode_girl= ',statistics.mode(girls))\n",
    "print('range_girl = ',max(boys)-min(girls))\n",
    "print('variance_girl = ',np.var(girls))\n",
    "print('P25_girl = ',np.percentile(girls,25) )\n",
    "print('P75_girl = ',np.percentile(girls,75) )\n",
    "print('skew_girl = ',stats.skew(girls))\n",
    "print('kurtosis_girl = ',stats.kurtosis(girls))"
   ]
  },
  {
   "cell_type": "code",
   "execution_count": 16,
   "metadata": {},
   "outputs": [
    {
     "name": "stdout",
     "output_type": "stream",
     "text": [
      "girls\n"
     ]
    }
   ],
   "source": [
    "#Q2: 請問男生和女生在平均身高上誰比較高? \n",
    "if(np.mean(boys)>np.mean(girls)):\n",
    "    print('boys')\n",
    "else:\n",
    "    print('girls')"
   ]
  },
  {
   "cell_type": "code",
   "execution_count": 17,
   "metadata": {},
   "outputs": [
    {
     "name": "stdout",
     "output_type": "stream",
     "text": [
      "不一致，抽出的樣本不夠多\n"
     ]
    }
   ],
   "source": [
    "#Q3:請問第二題的答案和日常生活中觀察的一致嗎? 如果不一致，你覺得原因可能為何? \n",
    "print('不一致，抽出的樣本不夠多')"
   ]
  },
  {
   "cell_type": "code",
   "execution_count": 28,
   "metadata": {},
   "outputs": [
    {
     "data": {
      "image/png": "[encoded data removed]",
      "text/plain": [
       "<Figure size 432x288 with 1 Axes>"
      ]
     },
     "metadata": {
      "needs_background": "light"
     },
     "output_type": "display_data"
    }
   ],
   "source": [
    "plt.hist(boys,alpha =0.4,bins =20)\n",
    "plt.axvline(np.mean(boys))\n",
    "plt.hist(girls,alpha = 0.4,bins =20)\n",
    "plt.axvline(np.mean(girls),color = 'orange')\n",
    "plt.show()"
   ]
  },
  {
   "cell_type": "code",
   "execution_count": null,
   "metadata": {},
   "outputs": [],
   "source": []
  }
 ],
 "metadata": {
  "kernelspec": {
   "display_name": "Python 3",
   "language": "python",
   "name": "python3"
  },
  "language_info": {
   "codemirror_mode": {
    "name": "ipython",
    "version": 3
   },
   "file_extension": ".py",
   "mimetype": "text/x-python",
   "name": "python",
   "nbconvert_exporter": "python",
   "pygments_lexer": "ipython3",
   "version": "3.8.5"
  }
 },
 "nbformat": 4,
 "nbformat_minor": 4
}
