{
 "cells": [
  {
   "cell_type": "code",
   "execution_count": 1,
   "metadata": {},
   "outputs": [
    {
     "data": {
      "text/plain": [
       "'\\nQ1: 大樂透的頭獎，你必須從49個挑選出 6 個號碼，\\n且這六個號碼與頭獎的六個號碼一致，頭獎的機率是屬於哪一種分配?\\n\\n超幾何分配\\n'"
      ]
     },
     "execution_count": 1,
     "metadata": {},
     "output_type": "execute_result"
    }
   ],
   "source": [
    "'''\n",
    "Q1: 大樂透的頭獎，你必須從49個挑選出 6 個號碼，\n",
    "且這六個號碼與頭獎的六個號碼一致，頭獎的機率是屬於哪一種分配?\n",
    "\n",
    "超幾何分配\n",
    "'''"
   ]
  },
  {
   "cell_type": "code",
   "execution_count": 6,
   "metadata": {},
   "outputs": [
    {
     "name": "stdout",
     "output_type": "stream",
     "text": [
      "7.151123842018523e-08\n"
     ]
    }
   ],
   "source": [
    "#Q2: 運用範例的 python 程式碼，計算大樂透的中頭獎機率?\n",
    "\n",
    "from scipy import stats\n",
    "\n",
    "N = 49\n",
    "k = 6\n",
    "n = 6\n",
    "\n",
    "probs = stats.hypergeom.pmf(6,N,k,n)\n",
    "print(probs)"
   ]
  },
  {
   "cell_type": "code",
   "execution_count": 7,
   "metadata": {},
   "outputs": [
    {
     "name": "stdout",
     "output_type": "stream",
     "text": [
      "一樣\n"
     ]
    }
   ],
   "source": [
    "#Q3: 你覺得電腦簽注的中獎機率，和人腦簽注相比，哪一個機率高?\n",
    "\n",
    "print('一樣')"
   ]
  },
  {
   "cell_type": "code",
   "execution_count": null,
   "metadata": {},
   "outputs": [],
   "source": []
  }
 ],
 "metadata": {
  "kernelspec": {
   "display_name": "Python 3",
   "language": "python",
   "name": "python3"
  },
  "language_info": {
   "codemirror_mode": {
    "name": "ipython",
    "version": 3
   },
   "file_extension": ".py",
   "mimetype": "text/x-python",
   "name": "python",
   "nbconvert_exporter": "python",
   "pygments_lexer": "ipython3",
   "version": "3.8.5"
  }
 },
 "nbformat": 4,
 "nbformat_minor": 4
}
