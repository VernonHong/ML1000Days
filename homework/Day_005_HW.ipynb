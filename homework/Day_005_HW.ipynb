{
 "cells": [
  {
   "cell_type": "code",
   "execution_count": 1,
   "metadata": {},
   "outputs": [],
   "source": [
    "import numpy as np"
   ]
  },
  {
   "cell_type": "code",
   "execution_count": 32,
   "metadata": {},
   "outputs": [
    {
     "name": "stdout",
     "output_type": "stream",
     "text": [
      "English :   mean = 67.16666666666667  Max = 89  min = 48  std = 13.433995020924426\n",
      "Math :   mean = 66.6  Max = 85.0  min = 60.0  std = 9.707728879609279\n",
      "Chinese :   mean = 75.33333333333333  Max = 90  min = 65  std = 8.825468196582484\n"
     ]
    }
   ],
   "source": [
    "english_score = np.array([55,89,76,65,48,70])\n",
    "math_score = np.array([60,85,60,68,np.nan,60])\n",
    "chinese_score = np.array([65,90,82,72,66,77])\n",
    "#1. 請計算各科成績平均、最大值、最小值、標準差，其中數學缺一筆資料可忽略?\n",
    "\n",
    "print(\"English : \",\" mean =\",np.mean(english_score),\" Max =\",np.max(english_score),\" min =\",np.min(english_score),\" std =\",np.std(english_score))\n",
    "print(\"Math : \",\" mean =\",np.nanmean(math_score),\" Max =\",np.nanmax(math_score),\" min =\",np.nanmin(math_score),\" std =\",np.nanstd(math_score))\n",
    "print(\"Chinese : \",\" mean =\",np.mean(chinese_score),\" Max =\",np.max(chinese_score),\" min =\",np.min(chinese_score),\" std =\",np.std(chinese_score))\n"
   ]
  },
  {
   "cell_type": "code",
   "execution_count": 33,
   "metadata": {},
   "outputs": [
    {
     "name": "stdout",
     "output_type": "stream",
     "text": [
      "Math :   mean = 64.66666666666667  Max = 85.0  min = 55.0  std = 9.860132971832694\n"
     ]
    }
   ],
   "source": [
    "#2. 第五位同學補考數學後成績為55，請計算補考後數學成績平均、最大值、最小值、標準差?\n",
    "math_score[4]=55\n",
    "print(\"Math : \",\" mean =\",np.nanmean(math_score),\" Max =\",np.nanmax(math_score),\" min =\",np.nanmin(math_score),\" std =\",np.nanstd(math_score))"
   ]
  },
  {
   "cell_type": "code",
   "execution_count": 47,
   "metadata": {},
   "outputs": [
    {
     "name": "stdout",
     "output_type": "stream",
     "text": [
      "[[1.         0.7855563  0.97792828]\n",
      " [0.7855563  1.         0.74056803]\n",
      " [0.97792828 0.74056803 1.        ]]\n",
      "英文\n"
     ]
    }
   ],
   "source": [
    "#3. 用補考後資料找出與國文成績相關係數最高的學科?\n",
    "all_subject = np.stack((english_score,math_score,chinese_score))\n",
    "print(np.corrcoef(all_subject))\n",
    "print(\"英文\")\n",
    "#A:英文"
   ]
  },
  {
   "cell_type": "code",
   "execution_count": null,
   "metadata": {},
   "outputs": [],
   "source": []
  }
 ],
 "metadata": {
  "kernelspec": {
   "display_name": "Python 3",
   "language": "python",
   "name": "python3"
  },
  "language_info": {
   "codemirror_mode": {
    "name": "ipython",
    "version": 3
   },
   "file_extension": ".py",
   "mimetype": "text/x-python",
   "name": "python",
   "nbconvert_exporter": "python",
   "pygments_lexer": "ipython3",
   "version": "3.8.5"
  }
 },
 "nbformat": 4,
 "nbformat_minor": 4
}
