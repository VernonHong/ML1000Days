{
 "cells": [
  {
   "cell_type": "code",
   "execution_count": 1,
   "metadata": {},
   "outputs": [],
   "source": [
    "# library\n",
    "from scipy import stats\n",
    "import numpy as np"
   ]
  },
  {
   "cell_type": "code",
   "execution_count": 2,
   "metadata": {},
   "outputs": [
    {
     "data": {
      "text/plain": [
       "7.54897374200536e-05"
      ]
     },
     "execution_count": 2,
     "metadata": {},
     "output_type": "execute_result"
    }
   ],
   "source": [
    "## Q1:計算標準常態分配，小於1的機率有多大?\n",
    "#  提示: 用 cdf 來算\n",
    "x = np.linspace(-10,10,1000)\n",
    "cumsum_probs = stats.norm.cdf(x,0,1)\n",
    "0.5-(cumsum_probs[680]/2)\n"
   ]
  },
  {
   "cell_type": "code",
   "execution_count": 3,
   "metadata": {},
   "outputs": [
    {
     "name": "stdout",
     "output_type": "stream",
     "text": [
      "大於1 :  7.54897374200536e-05\n",
      "小於-1 :  7.54897374200536e-05\n"
     ]
    }
   ],
   "source": [
    "## Q2:計算標準常態分配，大於1，小於 -1 的機率有多大?x \n",
    "print('大於1 : ',0.5-(cumsum_probs[680]/2))\n",
    "print('小於-1 : ',0.5-(cumsum_probs[680]/2))"
   ]
  },
  {
   "cell_type": "code",
   "execution_count": null,
   "metadata": {},
   "outputs": [],
   "source": [
    "## Q3:X~N(2,4),x 服從常態分配，平均數為2,變異數為 4，計算 X小於 6 的機率有多大?\n",
    "#  提示: 和 Q1,Q2 不同，要先標準化。\n",
    "cumsum_probs = stats.norm.cdf(x,2,4)"
   ]
  },
  {
   "cell_type": "code",
   "execution_count": null,
   "metadata": {},
   "outputs": [],
   "source": []
  }
 ],
 "metadata": {
  "kernelspec": {
   "display_name": "Python 3",
   "language": "python",
   "name": "python3"
  },
  "language_info": {
   "codemirror_mode": {
    "name": "ipython",
    "version": 3
   },
   "file_extension": ".py",
   "mimetype": "text/x-python",
   "name": "python",
   "nbconvert_exporter": "python",
   "pygments_lexer": "ipython3",
   "version": "3.8.5"
  }
 },
 "nbformat": 4,
 "nbformat_minor": 4
}
