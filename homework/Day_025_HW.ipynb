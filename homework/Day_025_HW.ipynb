{
 "cells": [
  {
   "cell_type": "code",
   "execution_count": 17,
   "id": "electronic-banks",
   "metadata": {},
   "outputs": [
    {
     "ename": "SyntaxError",
     "evalue": "invalid syntax (<ipython-input-17-3a1b7bdced8f>, line 34)",
     "output_type": "error",
     "traceback": [
      "\u001b[1;36m  File \u001b[1;32m\"<ipython-input-17-3a1b7bdced8f>\"\u001b[1;36m, line \u001b[1;32m34\u001b[0m\n\u001b[1;33m    resolution='??',area_thresh=???.,projection='??',\\\u001b[0m\n\u001b[1;37m                                ^\u001b[0m\n\u001b[1;31mSyntaxError\u001b[0m\u001b[1;31m:\u001b[0m invalid syntax\n"
     ]
    }
   ],
   "source": [
    "from mpl_toolkits.basemap import Basemap, shiftgrid, cm\n",
    "import numpy as np\n",
    "import matplotlib.pyplot as plt\n",
    "from netCDF4 import Dataset\n",
    "\n",
    "# 讀入 etopo5 地形/降水量。.\n",
    "#url = 'https://github.com/NOAA-PMEL/FerretDatasets/blob/master/data/etopo5.cdf'\n",
    "# 要確認資料集所在路徑\n",
    "etopodata = Dataset('etopo5.cdf')\n",
    "\n",
    "\n",
    "# 取得資料集裡的資料定義, 使用variables.keys()\n",
    "print(etopodata.variables.keys())\n",
    "# 匯入資料 使用variables['keys'][:]\n",
    "var = etopodata.variables['ROSE']\n",
    "data = var[:]*0.01\n",
    "       \n",
    "\n",
    "# 移位資料, 使 lon 從 - 180 到 180, 而不是 20 到 380 \n",
    "topoin,lons = shiftgrid(180.,topoin,lons,start=False)\n",
    "\n",
    "# 繪製地形/降水量\n",
    "# 創建圖形和軸實例\n",
    "fig = plt.figure()\n",
    "ax = fig.add_axes([0.1,0.1,0.8,0.8])\n",
    "\n",
    "#設定地理資訊圖('lcc' = lambert conformal conic).\n",
    "# 使用 Wgs84 橢圓體的主要和次要球體半徑, 做基礎的底圖\n",
    "# 請填入 resolution='??',area_thresh=???.,projection='??'\n",
    "# area_thresh 為一數字, 低於這個數字不呈現\n",
    "\n",
    "m = Basemap(llcrnrlon=-145.5,llcrnrlat=1.,urcrnrlon=-2.566,urcrnrlat=46.352,\\\n",
    "            rsphere=(6378137.00,6356752.3142),\\\n",
    "            resolution='??',area_thresh=???.,projection='??',\\\n",
    "            lat_1=50.,lon_0=-107.,ax=ax)\n",
    "\n",
    "# 轉換為 nx x ny 定期分空 5km 本機投影網格\n",
    "nx = int((m.xmax-m.xmin)/5000.)+1; ny = int((m.ymax-m.ymin)/5000.)+1\n",
    "topodat = m.transform_scalar(topoin,lons,lats,nx,ny)\n",
    "# plot image over map with imshow.\n",
    "im = m.imshow(topodat,cm.GMT_haxby)\n",
    "#劃定海岸線和邊境界限, 總共需要3個參數\n",
    "\n",
    "1.\n",
    "2.\n",
    "3.\n",
    "\n",
    "# 繪製經緯線\n",
    "# 設定地圖左側和底部的標籤\n",
    "parallels = np.arange(.....)\n",
    "m.drawparallels(.........)\n",
    "meridians = np.arange(.....)\n",
    "m.drawmeridians(.........)\n",
    "\n",
    "\n",
    "# 加入 colorbar\n",
    "cb = m.colorbar(im,\"right\", size=\"5%\", pad='2%')\n",
    "ax.set_title('ETOPO5 Topography - Lambert Conformal Conic')\n",
    "plt.show()\n",
    "'''"
   ]
  },
  {
   "cell_type": "code",
   "execution_count": 14,
   "id": "characteristic-knight",
   "metadata": {},
   "outputs": [
    {
     "data": {
      "text/plain": [
       "masked_array(\n",
       "  data=[[ 2810.,  2810.,  2810., ...,  2810.,  2810.,  2810.],\n",
       "        [ 2774.,  2774.,  2774., ...,  2774.,  2774.,  2774.],\n",
       "        [ 2774.,  2774.,  2774., ...,  2774.,  2774.,  2774.],\n",
       "        ...,\n",
       "        [-4288., -4288., -4288., ..., -4287., -4287., -4287.],\n",
       "        [-4288., -4288., -4288., ..., -4288., -4288., -4288.],\n",
       "        [-4290., -4290., -4290., ..., -4290., -4290., -4290.]],\n",
       "  mask=False,\n",
       "  fill_value=1e+20,\n",
       "  dtype=float32)"
      ]
     },
     "execution_count": 14,
     "metadata": {},
     "output_type": "execute_result"
    }
   ],
   "source": []
  },
  {
   "cell_type": "code",
   "execution_count": null,
   "id": "opened-chemistry",
   "metadata": {},
   "outputs": [],
   "source": []
  }
 ],
 "metadata": {
  "kernelspec": {
   "display_name": "Python 3",
   "language": "python",
   "name": "python3"
  },
  "language_info": {
   "codemirror_mode": {
    "name": "ipython",
    "version": 3
   },
   "file_extension": ".py",
   "mimetype": "text/x-python",
   "name": "python",
   "nbconvert_exporter": "python",
   "pygments_lexer": "ipython3",
   "version": "3.8.8"
  }
 },
 "nbformat": 4,
 "nbformat_minor": 5
}
